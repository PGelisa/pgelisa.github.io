{
 "cells": [
  {
   "cell_type": "raw",
   "id": "d4ce7d41-90d3-42bb-87c8-cfa1671dc19d",
   "metadata": {},
   "source": [
    "---\n",
    "title: \"Ulikheter\"\n",
    "title-block-banner: true\n",
    "theme: literia\n",
    "author: \"Elisabeth Engum\"\n",
    "number-sections: true\n",
    "crossref:\n",
    "    fig-title: Figur\n",
    "    fig-prefix: figur\n",
    "    eq-prefix:  formel\n",
    "    exm-title: Eksempel\n",
    "    exr-title: Oppgave\n",
    "format:\n",
    "    html:\n",
    "        code-fold: true\n",
    "jupyter: Python3\n",
    "---"
   ]
  },
  {
   "attachments": {
    "b51f81c9-1396-4a7a-9aed-a45061c5f20a.png": {
     "image/png": "[encoded data removed]"
    }
   },
   "cell_type": "markdown",
   "id": "fc7afa46-86dd-495e-9f39-4d4179823626",
   "metadata": {},
   "source": [
    "# Ulikhetstegnet {#sec-utegnet}\n",
    "I delkapittelet om tallmengder, så vi på at vi kunne ha tallmengder som består av elementer, eller som er gitt som åpne og/eller lukkete intervaller.\n",
    "\n",
    "::: {.callout-caution appearance=\"simple\" icon=false}\n",
    "Eksempel på elementer / liste:  $x\\in\\{-1, 2, 5\\}$ som betyr at vi har at x bare kan være lik $-1$, $2$ eller $5$, og ingen andre verdier\n",
    "\n",
    "Eksempel på åpne intervaller: $x\\in\\langle 2, 4\\rangle$ som betyr alle tall på tallinjen som er større enn $2$ og samtidig er mindre enn $4$\n",
    "\n",
    "Eksempel på lukkete intervaller: $x\\in\\left[-1, 4\\right]$ som betyr alle tall på tallinjen som er større enn eller lik $-1$ og samtidig mindre enn eller lik $4$.\n",
    ":::\n",
    "\n",
    "De åpne, halvåpne og lukkete intervallene kan også skrives med ulikhetssymbol:\n",
    "\n",
    "| Ulikhetssymbol | Leses som | Betyr |\n",
    "|-|--|----|\n",
    "|$\\lt$| Mindre enn | Det som står på **venstre** siden av symbolet er **mindre enn** det som står på høyre siden av symbolet|\n",
    "|$\\leq$| Mindre enn eller lik | Det som står på **venstre** siden av symbolet er **mindre enn eller lik** enn det som står på høyre siden av symbolet |\n",
    "|$\\gt$| Større enn | Det som står på **venstre** siden av symbolet er **større enn** det som står på høyre siden av symbolet|\n",
    "|$\\geq$| Større enn eller lik | Det som står på **venstre** siden av symbolet er **større enn eller lik** enn det som står på høyre siden av symbolet |\n",
    "\n",
    ": Ulikhetssymbolet (Merk at «gapet» alltid peker mot det største tallet)\n",
    "\n",
    "## Ulikhetssymbolet og tallinjen\n",
    "![Tallinje for x-verdier, og en linje som viser $x>3$ (MÅ BYTTES UT)](attachment:b51f81c9-1396-4a7a-9aed-a45061c5f20a.png)\n",
    "\n",
    "Det er to ulike måter vi kan skrive at vi har en tallmengde som består av alle tall som er større enn 3.\n",
    "\n",
    "$$ x\\in\\langle 3, \\rightarrow\\rangle$$\n",
    "$$x \\gt 3 $$\n",
    "\n",
    "Den siste linjen er også en **_ulikhet_**."
   ]
  },
  {
   "cell_type": "markdown",
   "id": "e5558465-5a9f-4af1-a928-0592206ce31d",
   "metadata": {},
   "source": [
    "# Hva er ulikheter {#sec-ulikheter}\n",
    "\n",
    "I delkapittelet om likninger lærte dere ulike metoder for å finne ut når et uttrykk på venste siden av likhetstegnet er lik uttrykket på høyre siden av likhetstegnet. Et eksempel er å løse likningen\n",
    "\n",
    "$$x^2-2x=3x-6$$\n",
    "\n",
    "Denne likningen har to løsninger, $\\underline{\\underline{x\\in\\{2, 3\\}}}$.\n",
    "\n",
    "Men hva om vi ikke er på jakt etter når noe er helt likt? Kanskje vil vi vite når noe er større enn eller mindre enn noe annet? Det kan være når vi ønsker å finne ut hva som er billigst av to forskjellige prismodeller.\n",
    "\n",
    "::: {.callout-note}\n",
    "\n",
    "## Ulikhet\n",
    "\n",
    "En ulikhet består av et ulikhetssymbol med tall eller uttrykk på hver side\n",
    ":::\n",
    "\n",
    "::: {.callout-caution  icon=false}\n",
    "\n",
    "#### Eksempel\n",
    "\n",
    "Mohammed og Turid skal bestille taxi, og vet ikke hva som er billigst av 1 Taxi AS eller ABC Taxi AS. Prisene er gitt som \n",
    "\n",
    "|           | 1 Taxi AS | ABC Taxi AS|\n",
    "|-----------|----------|------------|\n",
    "| Startpris | 104 kr | 112 kr |\n",
    "| Pris per km | 10,80 kr | 10,50 kr |\n",
    "\n",
    "For hvilke avstander (i km) er ABC Taxi AS billigst?\n",
    ":::\n",
    "::: {.callout-caution appearance=\"simple\" icon=false}\n",
    "\n",
    "#### Svar\n",
    "\n",
    "Vi lar $y$ være prisen for taxi-turen, og $x$ antall kilometer. Da får vi følgende uttrykk for prisene.\n",
    "\n",
    "| 1 Taxi AS | ABC Taxi AS |\n",
    "|---|---|\n",
    "| $y = 104 + 10,80\\cdot x$ | $y = 112 + 10,50\\cdot x$ |\n",
    "\n",
    "Hvis vi setter uttrykkene lik hverandre, så finner vi ut for hvilken avstand det er lik pris. Men vi er jo på jakt etter når ABC Taxi AS er billigst. Vi får altså en ulikhet, der vi skal finne ut når prisen på 1 Taxi er større enn prisen for ABC Taxi. Det kan vi skrive som følger:\n",
    "\n",
    "$$ 104 + 10,80\\cdot x > 112 + 10,50\\cdot x$$\n",
    "\n",
    ":::\n",
    "\n",
    "Vi skal lære å løse sånne ulikheter her"
   ]
  },
  {
   "cell_type": "markdown",
   "id": "6abda8bc-f45d-479a-ade8-0e368079c13c",
   "metadata": {},
   "source": [
    "# Lineære ulikheter (basert på NDLA) \n",
    "En ulikhet inneholder gjerne en eller flere ukjente størrelser symbolisert med bokstaver. Det er vanlig å bruke bokstaven $x$ for den ukjente når ulikheten har én ukjent størrelse.\n",
    "\n",
    "Et eksempel er ulikheten\n",
    "$$ x + 3 \\geq 8 $$ {#eq-ulikhet1}\n",
    "\n",
    "\n",
    "Å **løse** en ulikhet går ut på å finne hvilke verdier $x$ kan ha for at ulikheten skal være sann. For eksempel, hvilke verdier av $x$ i ulikheten ovenfor gjør at $x + 3$ blir lik eller større enn $8$?"
   ]
  },
  {
   "cell_type": "markdown",
   "id": "10213def-92bc-4ade-b83e-dac34cdd45ea",
   "metadata": {},
   "source": [
    "## Metode for å løse ulikheter\n",
    "Langt på vei kan vi løse ulikheter etter de samme prinsipper vi brukte for å løse likninger.\n",
    "\n",
    "* Hvis vi **adderer** det samme på begge sider av ulikhetstegnet, beholder vi den samme ulikheten mellom venstresiden og høyresiden.\n",
    "\n",
    "    Siden $5 \\lt 9$, så er $5$<span style=\"color:red;\">$+3$</span> $\\lt 9$<span style=\"color:red;\">$+3$</span>\n",
    "    \n",
    "* Hvis vi **subtraherer** det samme tallet på begge sider av ulikhetstegnet, beholder vi den samme ulikheten mellom venstresiden og høyresiden.\n",
    "    \n",
    "    Siden $9 \\gt 5$, så er $9$<span style=\"color:red;\">$-3$</span> $\\gt 5$<span style=\"color:red;\">$-3$</span>\n",
    "    \n",
    "Hvis vi bruker dette på ulikheten @eq-ulikhet1, så får vi\n",
    "\n",
    "$$\\begin{align}\\displaylines{x + 3 &\\geq& 8 \\\\ x + 3 -3 &\\geq& 8 - 3 \\\\ x &\\geq& 5}\\end{align}$$\n",
    "\n",
    "::: {.callout-important icon=false} \n",
    "\n",
    "## Men hva med multiplikasjon og divisjon? \n",
    "\n",
    "La oss se på $4 > 2$:\n",
    "\n",
    "Hvis vi multipliserer hver side av ulikheten med 2, så får vi:\n",
    "\n",
    "Venstre side: $4\\cdot 2 = 8$\n",
    "Høyre side: $2\\cdot 2 = 4$\n",
    "\n",
    "Vi ser at ulikheten fortsatt er gyldig om vi multipliserer med et positivt tall, fordi $8>4$.\n",
    "\n",
    "Men hva skjer om vi multipliserer med et **negativt tall** som for eksempel $-3$?\n",
    "\n",
    "Venstre side: $4\\cdot(-3)=-12$\n",
    "Høyre side: $2\\cdot(-2)=-6$\n",
    "\n",
    "Men $-12$ er jo mindre enn $-6$, $-12$ ligger lengre til venstre på tallinjen enn $-6$, og vi har fått at $4\\cdot(-3)<2\\cdot(-3)$!\n",
    "\n",
    ":::\n",
    "::: {.callout-note}\n",
    "\n",
    "## Multiplikasjon og divisjon med negative tall\n",
    "\n",
    "Vi må alltid snu ulikhetstegnet når vi multipliserer eller dividerer med negative tall\n",
    ":::\n",
    "\n",
    "<div class=\"alert alert-dismissible alert-success\">\n",
    "    \n",
    "- **Vi kan addere og subtrahere med samme tall på begge sider** i en ulikhet og forsatt beholde den samme ulikheten mellom venstre- og høyresiden.\n",
    "    \n",
    "- **Vi kan multiplisere og dividere med samme positive tall på begge sider** i en ulikhet og fortsatt beholde den samme ulikheten mellom venstresiden og høyresiden.\n",
    "    \n",
    "- **Vi må snu ulikhetstegnet hvis vi dividerer eller multipliserer med et negativt tall** på begge sider av ulikhetstegnet.\n",
    "</div>"
   ]
  },
  {
   "cell_type": "markdown",
   "id": "9ea142e7-a275-48f4-aee4-83af793f0f78",
   "metadata": {},
   "source": [
    "::: {#exm-Linulikhet1}\n",
    "\n",
    "## Lineær ulikhet\n",
    "\n",
    "\n",
    "Vi løser ulikheten  $2x+3 < 4x+9$\n",
    "\n",
    "$$\\require{cancel}\\renewcommand{\\CancelColor}{\\red}\\begin{align}\\displaylines{2x + 3&<& 4x + 9 \\\\ 2x - 4x&<& 9 - 3 \\\\ -2x&<& 6 \\\\ \\dfrac{\\bcancel{-2}x}{\\bcancel{-2}}&>& \\dfrac{6}{-2} \\\\ x &>& -3}\\end{align}$$\n",
    "\n",
    "\n",
    "Svaret på en ulikhet blir en tallmengde, og vi kan oppgi svaret som \n",
    "$$\\underline{\\underline{L\\in\\langle -3, \\rightarrow \\rangle}}$$\n",
    ":::"
   ]
  },
  {
   "cell_type": "markdown",
   "id": "8fdc2d10-15e5-4055-a565-879b738004ab",
   "metadata": {},
   "source": [
    "::: {#exm-Linulikhet2}\n",
    "\n",
    "## Lineær ulikhet\n",
    "\n",
    "\n",
    "Løs ulikheten $\\dfrac{x}{3}+\\dfrac{1}{2} \\leq \\dfrac{x}{2}+\\dfrac{1}{3}$\n",
    "\n",
    "$$\\begin{align}\\displaylines{\\dfrac{x\\cdot6}{3}+\\dfrac{1\\cdot6}{2} &\\leq& \\dfrac{x\\cdot6}{2}+\\dfrac{1\\cdot6}{3} \\\\ 2x + 3 &\\leq& 3x+2 \\\\ 2x-3x&\\leq& 2-3 \\\\-x &\\leq& -1 \\\\\\dfrac{\\bcancel{-}x}{\\bcancel{-1}}&\\geq& \\dfrac{-1}{-1} \\\\ x &\\geq& 1}\\end{align}$$\n",
    "\n",
    "Løsningsmengden for ulikheten er \n",
    " \n",
    "$$\\underline{\\underline{L\\in[1, \\rightarrow \\rangle}}$$\n",
    ":::"
   ]
  },
  {
   "attachments": {
    "7bfe8851-df5a-404e-9f65-6532aead2c88.png": {
     "image/png": "[encoded data removed]"
    },
    "8fbf58b9-721b-43b2-b963-4cb26026985a.png": {
     "image/png": "[encoded data removed]"
    },
    "9cbd829e-255c-49c5-83dc-df78e7bb2c7d.png": {
     "image/png": "[encoded data removed]"
    }
   },
   "cell_type": "markdown",
   "id": "64440c9a-ee8e-4d8d-848c-75a06c2fa970",
   "metadata": {},
   "source": [
    "## Løse ulikheter med CAS\n",
    "\n",
    "Vi kan også løse ulikheter med CAS. Her kan vi enten skrive inn ulikheten og trykke på knappen ![image.png](attachment:7bfe8851-df5a-404e-9f65-6532aead2c88.png).\n",
    "\n",
    "Da får vi denne løsningen: ![image.png](attachment:9cbd829e-255c-49c5-83dc-df78e7bb2c7d.png)\n",
    "\n",
    "Alternativt kan vi bruke kommandoordet \"Løs\". \n",
    "![image.png](attachment:8fbf58b9-721b-43b2-b963-4cb26026985a.png)"
   ]
  },
  {
   "cell_type": "markdown",
   "id": "cb1e16b4-a4a8-4fd4-a660-c4e0e644c293",
   "metadata": {},
   "source": [
    "# Oppgaver"
   ]
  },
  {
   "cell_type": "markdown",
   "id": "0aaed9a4-8c73-48c3-b8ee-52adf70cded7",
   "metadata": {},
   "source": [
    "::: {#exr-linulikhetOppgave1}\n",
    "\n",
    "Løs ulikhetene uten hjelpemidler, og deretter kontroller svaret ved å løse ulikhetene med CAS.\n",
    "\n",
    "<ol type=\"a\">\n",
    "  <li>$x-3<5$</li>\n",
    "  <li>$2x+1<3$</li>\n",
    "  <li>$2x-4<x-4$</li>\n",
    "</ol>\n",
    "    \n",
    ":::"
   ]
  },
  {
   "cell_type": "markdown",
   "id": "fc1525e5-df12-4de9-9ccc-ed83bb8dbfcc",
   "metadata": {},
   "source": [
    "::: {#exr-linulikhetOppgave2}\n",
    "\n",
    "Løs ulikhetene uten hjelpemidler, og deretter kontroller svaret ved å løse ulikhetene med CAS.\n",
    "\n",
    "<ol type=\"a\">\n",
    "  <li>$5x-3<2x-6$</li>\n",
    "  <li>$6-5x\\geq 6(1-x)$</li>\n",
    "  <li>$x-3\\leq2(x+6)$</li>\n",
    "</ol>\n",
    "    \n",
    ":::"
   ]
  },
  {
   "cell_type": "markdown",
   "id": "67c727c7-d2a2-4ff9-a9cb-8250d7afdb66",
   "metadata": {},
   "source": [
    "::: {#exr-linulikhetOppgave3}\n",
    "\n",
    "Løs ulikhetene uten hjelpemidler, og deretter kontroller svaret ved å løse ulikhetene med CAS.\n",
    "\n",
    "<ol type=\"a\">\n",
    "  <li>$3(x-5)<5(x-2)$</li>\n",
    "  <li>$1-x\\leq 1+x$</li>\n",
    "  <li>$3(2x-3)<6x-9$</li>\n",
    "</ol>\n",
    "    \n",
    ":::"
   ]
  },
  {
   "cell_type": "markdown",
   "id": "2f8ab88c-3ac2-46b9-8251-08b5e9768bfa",
   "metadata": {},
   "source": [
    "::: {#exr-linulikhetOppgave4}\n",
    "\n",
    "Løs ulikhetene uten hjelpemidler, og deretter kontroller svaret ved å løse ulikhetene med CAS.\n",
    "\n",
    "<ol type=\"a\">\n",
    "  <li>$\\dfrac{x}{2}-\\dfrac{x}{3} > \\dfrac{1}{6}$</li>\n",
    "  <li>$\\dfrac{5}{2}x+\\dfrac{x}{3}-\\dfrac{7}{4} \\geq 3-\\dfrac{x}{6}$</li>\n",
    "  <li>$\\dfrac{3}{2}(2x - 3) < 9\\left(\\dfrac{x}{3} + \\dfrac{1}{2}\\right)$</li>\n",
    "</ol>\n",
    "    \n",
    ":::"
   ]
  }
 ],
 "metadata": {
  "kernelspec": {
   "display_name": "Python 3 (ipykernel)",
   "language": "python",
   "name": "python3"
  },
  "language_info": {
   "codemirror_mode": {
    "name": "ipython",
    "version": 3
   },
   "file_extension": ".py",
   "mimetype": "text/x-python",
   "name": "python",
   "nbconvert_exporter": "python",
   "pygments_lexer": "ipython3",
   "version": "3.9.16"
  }
 },
 "nbformat": 4,
 "nbformat_minor": 5
}
